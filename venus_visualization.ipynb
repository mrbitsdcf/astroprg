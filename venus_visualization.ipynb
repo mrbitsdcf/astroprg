{
 "cells": [
  {
   "cell_type": "code",
   "execution_count": 101,
   "id": "d3aac025",
   "metadata": {},
   "outputs": [],
   "source": [
    "from astropy.time import Time\n",
    "from astropy.coordinates import solar_system_ephemeris\n",
    "from astropy.coordinates import EarthLocation\n",
    "from astropy.coordinates import get_body\n",
    "from astropy.coordinates import AltAz\n",
    "from astropy import units as u\n",
    "from datetime import datetime, timedelta, date\n",
    "import calendar\n",
    "from IPython.display import HTML, display\n",
    "import tabulate\n"
   ]
  },
  {
   "cell_type": "code",
   "execution_count": 102,
   "id": "ebdb4489",
   "metadata": {},
   "outputs": [],
   "source": [
    "# Porto Alegre\n",
    "lat = -30.032829\n",
    "lon = -51.230190\n",
    "height = 0\n",
    "cal = calendar.Calendar()\n",
    "venus_tbl = []"
   ]
  },
  {
   "cell_type": "code",
   "execution_count": 110,
   "id": "47d5808e",
   "metadata": {},
   "outputs": [],
   "source": [
    "# A biblioteca dá pau com scale = \"local\"\n",
    "for month in range(1, 13):\n",
    "    monthdays = [d for d in cal.itermonthdays(2021, month) if d != 0]\n",
    "    for day in monthdays:\n",
    "        t = Time(datetime(2021, month, day, 1, 0, 0, 1), scale=\"utc\", format=\"datetime\")\n",
    "        date_brazil = datetime(2021, month, day, 1, 0, 0, 1) - timedelta(hours=3)\n",
    "        observation_date = date.strftime(date_brazil, \"%F %T\")\n",
    "        loc = EarthLocation(lat=lat * u.deg, lon=lon * u.deg, height=height * u.m)\n",
    "        with solar_system_ephemeris.set('jpl'):\n",
    "            venus = get_body('venus', t, loc)\n",
    "        altazframe = AltAz(obstime=t, location=loc, pressure=0)\n",
    "        venusaz = venus.transform_to(altazframe)\n",
    "        venus_tbl.append([observation_date, venusaz.alt.degree, venusaz.az.degree])\n",
    "        "
   ]
  }
 ],
 "metadata": {
  "kernelspec": {
   "display_name": "Python 3 (ipykernel)",
   "language": "python",
   "name": "python3"
  },
  "language_info": {
   "codemirror_mode": {
    "name": "ipython",
    "version": 3
   },
   "file_extension": ".py",
   "mimetype": "text/x-python",
   "name": "python",
   "nbconvert_exporter": "python",
   "pygments_lexer": "ipython3",
   "version": "3.8.10"
  }
 },
 "nbformat": 4,
 "nbformat_minor": 5
}
